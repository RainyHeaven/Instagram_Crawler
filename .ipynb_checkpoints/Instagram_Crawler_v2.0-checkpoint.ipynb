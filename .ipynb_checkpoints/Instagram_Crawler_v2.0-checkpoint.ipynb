{
 "cells": [
  {
   "cell_type": "code",
   "execution_count": 1,
   "metadata": {},
   "outputs": [],
   "source": [
    "# -*- coding:utf-8 -*-\n",
    "from selenium import webdriver\n",
    "from selenium.common.exceptions import NoSuchElementException\n",
    "import time\n",
    "import pandas as pd\n",
    "import datetime\n",
    "import random"
   ]
  },
  {
   "cell_type": "code",
   "execution_count": 28,
   "metadata": {},
   "outputs": [],
   "source": [
    "#중간 저장 주기 = x회 마다\n",
    "save_when = 100\n",
    "\n",
    "#파일 경로\n",
    "save_path = 'c:/data/'\n",
    "font_path_window=\"c:/Windows/Fonts/malgun.ttf\"\n",
    "driver_path = 'C:/Users/stu/git/SmallBall/chromedriver'\n",
    "\n",
    "#파일 형식\n",
    "save_type = 'csv'\n",
    "\n",
    "#다음페이지 넘어갈 때 기다리는 시간(최소, 최대)\n",
    "wait_time = random.uniform(1.5, 2.5)\n",
    "\n",
    "#검색 기준: 인기(hot), 최신(new)\n",
    "find_index = 'hot'"
   ]
  },
  {
   "cell_type": "code",
   "execution_count": 5,
   "metadata": {},
   "outputs": [],
   "source": [
    "browser = webdriver.Chrome(driver_path)\n",
    "browser.implicitly_wait(3)"
   ]
  },
  {
   "cell_type": "code",
   "execution_count": 6,
   "metadata": {},
   "outputs": [],
   "source": [
    "def searching_insta(browser):\n",
    "    url = 'https://www.instagram.com/explore/tags/{}'.format(word)\n",
    "    browser.get(url)"
   ]
  },
  {
   "cell_type": "code",
   "execution_count": 19,
   "metadata": {},
   "outputs": [],
   "source": [
    "def click_article(browser, index):\n",
    "    if index == 'hot':        \n",
    "        browser.find_element_by_css_selector('a > div > div._9AhH0').click()\n",
    "    \n",
    "    elif index == 'new':\n",
    "        browser.find_element_by_css_selector('a > div > div._9AhH0').click()"
   ]
  },
  {
   "cell_type": "code",
   "execution_count": 8,
   "metadata": {},
   "outputs": [],
   "source": [
    "def get_current_url(browser):\n",
    "    article_url = browser.current_url\n",
    "    return article_url"
   ]
  },
  {
   "cell_type": "code",
   "execution_count": 21,
   "metadata": {},
   "outputs": [],
   "source": [
    "def get_contents(browser):\n",
    "    \n",
    "    author = browser.find_element_by_css_selector('div.KlCQn.EtaWk > ul > li > div > div > div > h2 > a').text\n",
    "    contents = [author]\n",
    "    \n",
    "#     #첫번째 댓글만 가져오기\n",
    "#     article = browser.find_element_by_css_selector('li._ezgzd > span').text\n",
    "    \n",
    "#     #더보기를 누르지 않은 상태에서 모든 댓글을 가져오기\n",
    "#     article = browser.find_element_by_css_selector('div._ebcx9 > div._4a48i._277v9 > ul').text\n",
    "    \n",
    "    #더보기를 눌러서 모든 댓글을 가져오기\n",
    "    more_reply = True\n",
    "    while more_reply:\n",
    "        try:            \n",
    "            browser.find_element_by_css_selector('div.KlCQn.EtaWk > ul > li.lnrre > button').click()\n",
    "            browser.implicitly_wait(1)\n",
    "            \n",
    "        except:\n",
    "            more_reply = False\n",
    "            break\n",
    "    replies = browser.find_elements_by_css_selector('li.gElp9')\n",
    "    article = []\n",
    "    for reply in replies:\n",
    "        reply_author = reply.find_element_by_css_selector('a').text\n",
    "        reply_article = reply.find_element_by_css_selector('span').text\n",
    "        article.append([reply_author, reply_article])\n",
    "\n",
    "    contents.append(article)\n",
    "        \n",
    "    return contents"
   ]
  },
  {
   "cell_type": "code",
   "execution_count": 22,
   "metadata": {},
   "outputs": [],
   "source": [
    "def get_content_type(browser):\n",
    "    try:\n",
    "        video_check = browser.find_element_by_css_selector('section.EDfFK.ygqzn > div > span')\n",
    "        if video_check.text[:2] == '조회':\n",
    "            content_type = '동영상'\n",
    "            \n",
    "        else:\n",
    "            content_type = '이미지'\n",
    "    \n",
    "    except:\n",
    "        content_type = '이미지'\n",
    "        \n",
    "    return content_type"
   ]
  },
  {
   "cell_type": "code",
   "execution_count": 23,
   "metadata": {},
   "outputs": [],
   "source": [
    "def get_img_likes(browser):\n",
    "    plays = 'none'\n",
    "    \n",
    "    try:\n",
    "        check = browser.find_element_by_css_selector('section.EDfFK.ygqzn > div > span').text\n",
    "                \n",
    "        if check[-3:] == '합니다':\n",
    "            likes = len(browser.find_elements_by_css_selector('section.EDfFK.ygqzn > div > span'))\n",
    "                        \n",
    "        else:\n",
    "            likes = int(check[4:-1].replace(',',''))\n",
    "                                \n",
    "        return likes, plays\n",
    "                                                           \n",
    "    except:\n",
    "        likes = 0\n",
    "        return likes, plays"
   ]
  },
  {
   "cell_type": "code",
   "execution_count": 24,
   "metadata": {},
   "outputs": [],
   "source": [
    "def get_vid_likes(browser):    \n",
    "    check = browser.find_element_by_css_selector('section.EDfFK.ygqzn > div > span')\n",
    "    plays = check.text\n",
    "    check.click()\n",
    "    \n",
    "    likes = browser.find_element_by_css_selector('section.EDfFK.ygqzn > div > div > div.vJRqr > span').text\n",
    "    browser.find_element_by_css_selector('section.EDfFK.ygqzn > div > span').click()\n",
    "    \n",
    "    plays = int(plays.replace(',',''))\n",
    "    likes = int(likes.replace(',',''))\n",
    "    \n",
    "    return likes, plays"
   ]
  },
  {
   "cell_type": "code",
   "execution_count": 13,
   "metadata": {},
   "outputs": [],
   "source": [
    "def get_likesandplays(browser):\n",
    "    content_type = get_content_type(browser)\n",
    "    if content_type == '이미지':\n",
    "        likesandplays = get_img_likes(browser)\n",
    "    \n",
    "    elif content_type == '동영상':\n",
    "        likesandplays = get_vid_likes(browser)\n",
    "    \n",
    "    return likesandplays"
   ]
  },
  {
   "cell_type": "code",
   "execution_count": 25,
   "metadata": {},
   "outputs": [],
   "source": [
    "def get_location(browser):\n",
    "    try:\n",
    "        location = browser.find_element_by_css_selector('div.o-MQd > div.M30cS > a').text\n",
    "    \n",
    "    except NoSuchElementException:\n",
    "        location = 'none'\n",
    "    \n",
    "    return location"
   ]
  },
  {
   "cell_type": "code",
   "execution_count": 26,
   "metadata": {},
   "outputs": [],
   "source": [
    "def move_next(browser, wait_time):\n",
    "    try:\n",
    "        browser.find_element_by_css_selector('div.EfHg9 > div > div > a.HBoOv.coreSpriteRightPaginationArrow').click()\n",
    "        time.sleep(wait_time)\n",
    "        \n",
    "    except NoSuchElementException:\n",
    "        print('마지막 게시물입니다.')"
   ]
  },
  {
   "cell_type": "code",
   "execution_count": 16,
   "metadata": {},
   "outputs": [],
   "source": [
    "def save():\n",
    "    txt_path = save_path + '{}_{}_{}.txt'.format(word, start_time, save_count)\n",
    "    csv_path = save_path + '{}_{}_{}.csv'.format(word, start_time, save_count)\n",
    "    \n",
    "    if save_type == 'csv':      \n",
    "        report = pd.DataFrame(results, columns = ['좋아요', '재생수', '작성자', '장소', '본문', 'url'])\n",
    "        report.to_csv(csv_path)\n",
    "    \n",
    "    elif save_type == 'txt':\n",
    "        f = open(txt_path, 'w+', encoding = 'utf8')\n",
    "        f.write('\\n'.join(results))\n",
    "        f.close()\n",
    "       \n",
    "    save_num = save_count + 1\n",
    "    return save_num"
   ]
  },
  {
   "cell_type": "code",
   "execution_count": 27,
   "metadata": {
    "scrolled": false
   },
   "outputs": [
    {
     "name": "stdout",
     "output_type": "stream",
     "text": [
      "찾고 싶은 키워드를 입력하세요: 강서구맛집\n",
      "몇건의 포스팅을 찾으시겠습니까?: 3\n",
      "1번째 크롤링 중\n",
      "2번째 크롤링 중\n",
      "3번째 크롤링 중\n"
     ]
    },
    {
     "ename": "FileNotFoundError",
     "evalue": "[Errno 2] No such file or directory: 'c:/cr/강서구맛집_20181017_1653_1.csv'",
     "output_type": "error",
     "traceback": [
      "\u001b[1;31m---------------------------------------------------------------------------\u001b[0m",
      "\u001b[1;31mFileNotFoundError\u001b[0m                         Traceback (most recent call last)",
      "\u001b[1;32m<ipython-input-27-21442fc0c29d>\u001b[0m in \u001b[0;36m<module>\u001b[1;34m()\u001b[0m\n\u001b[0;32m     39\u001b[0m         \u001b[1;32mbreak\u001b[0m\u001b[1;33m\u001b[0m\u001b[0m\n\u001b[0;32m     40\u001b[0m \u001b[1;33m\u001b[0m\u001b[0m\n\u001b[1;32m---> 41\u001b[1;33m \u001b[0msave_count\u001b[0m \u001b[1;33m=\u001b[0m \u001b[0msave\u001b[0m\u001b[1;33m(\u001b[0m\u001b[1;33m)\u001b[0m\u001b[1;33m\u001b[0m\u001b[0m\n\u001b[0m\u001b[0;32m     42\u001b[0m \u001b[1;33m\u001b[0m\u001b[0m\n\u001b[0;32m     43\u001b[0m print('''\n",
      "\u001b[1;32m<ipython-input-16-be17780a519e>\u001b[0m in \u001b[0;36msave\u001b[1;34m()\u001b[0m\n\u001b[0;32m      5\u001b[0m     \u001b[1;32mif\u001b[0m \u001b[0msave_type\u001b[0m \u001b[1;33m==\u001b[0m \u001b[1;34m'csv'\u001b[0m\u001b[1;33m:\u001b[0m\u001b[1;33m\u001b[0m\u001b[0m\n\u001b[0;32m      6\u001b[0m         \u001b[0mreport\u001b[0m \u001b[1;33m=\u001b[0m \u001b[0mpd\u001b[0m\u001b[1;33m.\u001b[0m\u001b[0mDataFrame\u001b[0m\u001b[1;33m(\u001b[0m\u001b[0mresults\u001b[0m\u001b[1;33m,\u001b[0m \u001b[0mcolumns\u001b[0m \u001b[1;33m=\u001b[0m \u001b[1;33m[\u001b[0m\u001b[1;34m'좋아요'\u001b[0m\u001b[1;33m,\u001b[0m \u001b[1;34m'재생수'\u001b[0m\u001b[1;33m,\u001b[0m \u001b[1;34m'작성자'\u001b[0m\u001b[1;33m,\u001b[0m \u001b[1;34m'장소'\u001b[0m\u001b[1;33m,\u001b[0m \u001b[1;34m'본문'\u001b[0m\u001b[1;33m,\u001b[0m \u001b[1;34m'url'\u001b[0m\u001b[1;33m]\u001b[0m\u001b[1;33m)\u001b[0m\u001b[1;33m\u001b[0m\u001b[0m\n\u001b[1;32m----> 7\u001b[1;33m         \u001b[0mreport\u001b[0m\u001b[1;33m.\u001b[0m\u001b[0mto_csv\u001b[0m\u001b[1;33m(\u001b[0m\u001b[0mcsv_path\u001b[0m\u001b[1;33m)\u001b[0m\u001b[1;33m\u001b[0m\u001b[0m\n\u001b[0m\u001b[0;32m      8\u001b[0m \u001b[1;33m\u001b[0m\u001b[0m\n\u001b[0;32m      9\u001b[0m     \u001b[1;32melif\u001b[0m \u001b[0msave_type\u001b[0m \u001b[1;33m==\u001b[0m \u001b[1;34m'txt'\u001b[0m\u001b[1;33m:\u001b[0m\u001b[1;33m\u001b[0m\u001b[0m\n",
      "\u001b[1;32m~\\Anaconda3\\lib\\site-packages\\pandas\\core\\frame.py\u001b[0m in \u001b[0;36mto_csv\u001b[1;34m(self, path_or_buf, sep, na_rep, float_format, columns, header, index, index_label, mode, encoding, compression, quoting, quotechar, line_terminator, chunksize, tupleize_cols, date_format, doublequote, escapechar, decimal)\u001b[0m\n\u001b[0;32m   1743\u001b[0m                                  \u001b[0mdoublequote\u001b[0m\u001b[1;33m=\u001b[0m\u001b[0mdoublequote\u001b[0m\u001b[1;33m,\u001b[0m\u001b[1;33m\u001b[0m\u001b[0m\n\u001b[0;32m   1744\u001b[0m                                  escapechar=escapechar, decimal=decimal)\n\u001b[1;32m-> 1745\u001b[1;33m         \u001b[0mformatter\u001b[0m\u001b[1;33m.\u001b[0m\u001b[0msave\u001b[0m\u001b[1;33m(\u001b[0m\u001b[1;33m)\u001b[0m\u001b[1;33m\u001b[0m\u001b[0m\n\u001b[0m\u001b[0;32m   1746\u001b[0m \u001b[1;33m\u001b[0m\u001b[0m\n\u001b[0;32m   1747\u001b[0m         \u001b[1;32mif\u001b[0m \u001b[0mpath_or_buf\u001b[0m \u001b[1;32mis\u001b[0m \u001b[1;32mNone\u001b[0m\u001b[1;33m:\u001b[0m\u001b[1;33m\u001b[0m\u001b[0m\n",
      "\u001b[1;32m~\\Anaconda3\\lib\\site-packages\\pandas\\io\\formats\\csvs.py\u001b[0m in \u001b[0;36msave\u001b[1;34m(self)\u001b[0m\n\u001b[0;32m    154\u001b[0m             f, handles = _get_handle(self.path_or_buf, self.mode,\n\u001b[0;32m    155\u001b[0m                                      \u001b[0mencoding\u001b[0m\u001b[1;33m=\u001b[0m\u001b[0mencoding\u001b[0m\u001b[1;33m,\u001b[0m\u001b[1;33m\u001b[0m\u001b[0m\n\u001b[1;32m--> 156\u001b[1;33m                                      compression=self.compression)\n\u001b[0m\u001b[0;32m    157\u001b[0m             \u001b[0mclose\u001b[0m \u001b[1;33m=\u001b[0m \u001b[1;32mTrue\u001b[0m\u001b[1;33m\u001b[0m\u001b[0m\n\u001b[0;32m    158\u001b[0m \u001b[1;33m\u001b[0m\u001b[0m\n",
      "\u001b[1;32m~\\Anaconda3\\lib\\site-packages\\pandas\\io\\common.py\u001b[0m in \u001b[0;36m_get_handle\u001b[1;34m(path_or_buf, mode, encoding, compression, memory_map, is_text)\u001b[0m\n\u001b[0;32m    398\u001b[0m         \u001b[1;32melif\u001b[0m \u001b[0mencoding\u001b[0m\u001b[1;33m:\u001b[0m\u001b[1;33m\u001b[0m\u001b[0m\n\u001b[0;32m    399\u001b[0m             \u001b[1;31m# Python 3 and encoding\u001b[0m\u001b[1;33m\u001b[0m\u001b[1;33m\u001b[0m\u001b[0m\n\u001b[1;32m--> 400\u001b[1;33m             \u001b[0mf\u001b[0m \u001b[1;33m=\u001b[0m \u001b[0mopen\u001b[0m\u001b[1;33m(\u001b[0m\u001b[0mpath_or_buf\u001b[0m\u001b[1;33m,\u001b[0m \u001b[0mmode\u001b[0m\u001b[1;33m,\u001b[0m \u001b[0mencoding\u001b[0m\u001b[1;33m=\u001b[0m\u001b[0mencoding\u001b[0m\u001b[1;33m)\u001b[0m\u001b[1;33m\u001b[0m\u001b[0m\n\u001b[0m\u001b[0;32m    401\u001b[0m         \u001b[1;32melif\u001b[0m \u001b[0mis_text\u001b[0m\u001b[1;33m:\u001b[0m\u001b[1;33m\u001b[0m\u001b[0m\n\u001b[0;32m    402\u001b[0m             \u001b[1;31m# Python 3 and no explicit encoding\u001b[0m\u001b[1;33m\u001b[0m\u001b[1;33m\u001b[0m\u001b[0m\n",
      "\u001b[1;31mFileNotFoundError\u001b[0m: [Errno 2] No such file or directory: 'c:/cr/강서구맛집_20181017_1653_1.csv'"
     ]
    }
   ],
   "source": [
    "word = input('찾고 싶은 키워드를 입력하세요: ')\n",
    "searching_insta(browser)\n",
    "\n",
    "num = int(input('몇건의 포스팅을 찾으시겠습니까?: '))\n",
    "\n",
    "click_article(browser, find_index)\n",
    "browser.implicitly_wait(3)\n",
    "\n",
    "save_count = 1\n",
    "\n",
    "now = datetime.datetime.now()\n",
    "start_time = now.strftime('%Y%m%d_%H%M')\n",
    "\n",
    "results = []\n",
    "\n",
    "for i in range(num):                     \n",
    "    index = int(i+1)\n",
    "    print('{}번째 크롤링 중'.format(index))\n",
    "\n",
    "    likes = get_likesandplays(browser)[0]\n",
    "    plays = get_likesandplays(browser)[1]\n",
    "    author = get_contents(browser)[0]\n",
    "    location = get_location(browser)\n",
    "    article = get_contents(browser)[1]\n",
    "    article_url = get_current_url(browser)\n",
    "\n",
    "    result = [likes, plays, author, location, article, article_url]\n",
    "    results.append(result)   \n",
    "\n",
    "    if index % save_when == 0:\n",
    "        save_count = save(save_count)\n",
    "        print('- 중간 결과를 저장했습니다 -')\n",
    "\n",
    "    try:\n",
    "        move_next(browser, wait_time)\n",
    "        \n",
    "    except NoSuchElementException:\n",
    "        print('마지막 게시물입니다')\n",
    "        break\n",
    "\n",
    "save_count = save()\n",
    "\n",
    "print('''\n",
    "- 최종 결과를 저장했습니다 -\n",
    "- 모든 크롤링을 마쳤습니다 - \n",
    "''')"
   ]
  }
 ],
 "metadata": {
  "kernelspec": {
   "display_name": "Python 3",
   "language": "python",
   "name": "python3"
  },
  "language_info": {
   "codemirror_mode": {
    "name": "ipython",
    "version": 3
   },
   "file_extension": ".py",
   "mimetype": "text/x-python",
   "name": "python",
   "nbconvert_exporter": "python",
   "pygments_lexer": "ipython3",
   "version": "3.6.6"
  }
 },
 "nbformat": 4,
 "nbformat_minor": 1
}

{
 "cells": [
  {
   "cell_type": "code",
   "execution_count": 24,
   "metadata": {},
   "outputs": [],
   "source": [
    "# -*- coding:utf-8 -*-\n",
    "from selenium import webdriver\n",
    "from selenium.common.exceptions import NoSuchElementException\n",
    "import time\n",
    "import re\n",
    "from collections import Counter\n",
    "import pandas as pd\n",
    "import matplotlib.pyplot as plt\n",
    "from wordcloud import WordCloud\n",
    "import datetime"
   ]
  },
  {
   "cell_type": "code",
   "execution_count": 2,
   "metadata": {
    "collapsed": true
   },
   "outputs": [],
   "source": [
    "#중간 저장 주기, 파일 경로\n",
    "save_when = 50\n",
    "save_path = 'c:/cr/'\n",
    "font_path_window=\"c:/Windows/Fonts/malgun.ttf\"\n",
    "driver_path = 'c:/cd/chromedriver'"
   ]
  },
  {
   "cell_type": "code",
   "execution_count": 3,
   "metadata": {
    "collapsed": true
   },
   "outputs": [],
   "source": [
    "browser = webdriver.Chrome(driver_path)\n",
    "browser.implicitly_wait(3)"
   ]
  },
  {
   "cell_type": "code",
   "execution_count": 4,
   "metadata": {
    "collapsed": true
   },
   "outputs": [],
   "source": [
    "def searching_insta(browser):\n",
    "    url = 'https://www.instagram.com/explore/tags/{}'.format(word)\n",
    "    browser.get(url)"
   ]
  },
  {
   "cell_type": "code",
   "execution_count": 5,
   "metadata": {
    "collapsed": true
   },
   "outputs": [],
   "source": [
    "def click_1st(browser):\n",
    "    browser.find_element_by_css_selector('a > div > div._si7dy').click()"
   ]
  },
  {
   "cell_type": "code",
   "execution_count": 6,
   "metadata": {
    "collapsed": true
   },
   "outputs": [],
   "source": [
    "def get_current_url(browser):\n",
    "    article_url = browser.current_url\n",
    "    return article_url"
   ]
  },
  {
   "cell_type": "code",
   "execution_count": 7,
   "metadata": {
    "collapsed": true
   },
   "outputs": [],
   "source": [
    "def get_author(browser):\n",
    "    author = browser.find_element_by_css_selector('li._ezgzd > a').text\n",
    "    return author"
   ]
  },
  {
   "cell_type": "code",
   "execution_count": 8,
   "metadata": {
    "collapsed": true
   },
   "outputs": [],
   "source": [
    "def get_content(browser):\n",
    "    content = browser.find_element_by_css_selector('li._ezgzd > span').text\n",
    "    return content"
   ]
  },
  {
   "cell_type": "code",
   "execution_count": 9,
   "metadata": {
    "collapsed": true
   },
   "outputs": [],
   "source": [
    "def get_reply(browser):\n",
    "    more_reply = True\n",
    "    while more_reply:\n",
    "        try:\n",
    "            browser.find_element_by_css_selector('a._m3m1c._1s3cd').click()\n",
    "            time.sleep(1)\n",
    "        except:\n",
    "            more_reply = False\n",
    "            break\n",
    "    \n",
    "    replies = browser.find_elements_by_css_selector('li._ezgzd')[1:]\n",
    "    reply_result = []\n",
    "    for reply in replies:\n",
    "        reply_author = reply.find_element_by_css_selector('a').text\n",
    "        reply_content = reply.find_element_by_css_selector('span').text\n",
    "        reply_result.append([reply_author, reply_content])\n",
    "    return reply_result"
   ]
  },
  {
   "cell_type": "code",
   "execution_count": 10,
   "metadata": {
    "collapsed": true
   },
   "outputs": [],
   "source": [
    "def get_content_type(browser):\n",
    "    try:\n",
    "        video_check = browser.find_element_by_css_selector('section._1w76c._nlmjy > div > span')\n",
    "        if video_check.text[:2] == '조회':\n",
    "            content_type = '동영상'\n",
    "            \n",
    "        else:\n",
    "            content_type = '이미지'\n",
    "    \n",
    "    except:\n",
    "        content_type = '이미지'\n",
    "        \n",
    "    return content_type"
   ]
  },
  {
   "cell_type": "code",
   "execution_count": 11,
   "metadata": {
    "collapsed": true
   },
   "outputs": [],
   "source": [
    "def get_img_likes(browser):\n",
    "    plays = 1\n",
    "    \n",
    "    try:      \n",
    "        check = browser.find_element_by_css_selector('section._1w76c._nlmjy > div').text\n",
    "                \n",
    "        if check[-3:] == '합니다':\n",
    "            likes = len(browser.find_elements_by_css_selector('section._1w76c._nlmjy > div > a'))\n",
    "                        \n",
    "        else:\n",
    "            likes = int(check[4:-1].replace(',',''))\n",
    "                                \n",
    "        return likes, plays\n",
    "                                                           \n",
    "    except:\n",
    "        likes = 0\n",
    "        return likes, plays"
   ]
  },
  {
   "cell_type": "code",
   "execution_count": 12,
   "metadata": {
    "collapsed": true
   },
   "outputs": [],
   "source": [
    "def get_vid_likes(browser):\n",
    "    check = browser.find_element_by_css_selector('section._1w76c._nlmjy > div > span > span')\n",
    "\n",
    "    plays = check.text\n",
    "           \n",
    "    check.click()\n",
    "        \n",
    "    likes = browser.find_element_by_css_selector('section._1w76c._nlmjy > div > div > div._m10kk > span').text\n",
    "        \n",
    "    browser.find_element_by_css_selector('section._1w76c._nlmjy > div > div > div._7px37').click()\n",
    "    \n",
    "    plays = int(plays.replace(',',''))\n",
    "    likes = int(likes.replace(',',''))\n",
    "    \n",
    "    return likes, plays"
   ]
  },
  {
   "cell_type": "code",
   "execution_count": 13,
   "metadata": {
    "collapsed": true
   },
   "outputs": [],
   "source": [
    "def get_likesandplays(browser):\n",
    "    content_type = get_content_type(browser)\n",
    "    if content_type == '이미지':\n",
    "        likesandplays = get_img_likes(browser)\n",
    "    \n",
    "    elif content_type == '동영상':\n",
    "        likesandplays = get_vid_likes(browser)\n",
    "    \n",
    "    return likesandplays"
   ]
  },
  {
   "cell_type": "code",
   "execution_count": 14,
   "metadata": {
    "collapsed": true
   },
   "outputs": [],
   "source": [
    "def get_tags(browser):\n",
    "    content = get_content(browser)\n",
    "    tags = re.findall(r'#[^\\s#,\\\\]+', content)\n",
    "    return tags"
   ]
  },
  {
   "cell_type": "code",
   "execution_count": 15,
   "metadata": {
    "collapsed": true
   },
   "outputs": [],
   "source": [
    "def get_location(browser):\n",
    "    try:\n",
    "        location = browser.find_element_by_css_selector('div._j56ec > div._60iqg > a').text\n",
    "    \n",
    "    except NoSuchElementException:\n",
    "        location = 'none'\n",
    "    \n",
    "    return location"
   ]
  },
  {
   "cell_type": "code",
   "execution_count": 16,
   "metadata": {
    "collapsed": true
   },
   "outputs": [],
   "source": [
    "def tag_result():\n",
    "    f = open(txt_path, 'r', encoding = 'utf8')\n",
    "    tags = f.read()\n",
    "    f.close()\n",
    "    \n",
    "    tags = tags.split('\\n')\n",
    "    tag_count = Counter(tags)\n",
    "    print(tag_count)\n",
    "\n",
    "    %matplotlib inline\n",
    "    \n",
    "    wordcloud = WordCloud(font_path= font_path_window, background_color=\"white\", \n",
    "                          max_words=100).generate_from_frequencies(tag_count) #font_step=5\n",
    "    plt.figure(figsize=(20,15))\n",
    "    plt.imshow(wordcloud)\n",
    "    plt.axis('off')"
   ]
  },
  {
   "cell_type": "code",
   "execution_count": 36,
   "metadata": {},
   "outputs": [],
   "source": [
    "def move_next(browser):\n",
    "    browser.find_element_by_css_selector('div._23gmb > div > div > a._3a693.coreSpriteRightPaginationArrow').click()"
   ]
  },
  {
   "cell_type": "code",
   "execution_count": 18,
   "metadata": {
    "collapsed": true
   },
   "outputs": [],
   "source": [
    "#태그 트렌드: 게시물의 태그만 수집하여 태그 순위 리포트 - 클라우드 출력, 파일로 저장.\n",
    "def find_tagtrend(browser):\n",
    "    tags = []    \n",
    "    \n",
    "    for i in range(num):                \n",
    "        tags += get_tags(browser)\n",
    "\n",
    "        index = int(i+1)\n",
    "        print('{}번째 크롤링 중'.format(index))\n",
    "\n",
    "        if index % save_when == 0:\n",
    "            f = open(txt_path, 'a+', encoding = 'utf8')\n",
    "            f.write('\\n'.join(tags))\n",
    "            f.close()\n",
    "            print('- 중간 결과를 저장했습니다 -')\n",
    "            tags = []\n",
    "        \n",
    "        try:\n",
    "            move_next(browser)\n",
    "            time.sleep(2)\n",
    "            \n",
    "        except NoSuchElementException:\n",
    "            f = open(txt_path, 'a+', encoding = 'utf8')\n",
    "            f.write('\\n'.join(tags))\n",
    "            f.close()\n",
    "            \n",
    "            \n",
    "    f = open(txt_path, 'a+', encoding = 'utf8')\n",
    "    f.write('\\n'.join(tags))\n",
    "    f.close()\n",
    "\n",
    "    print('''\n",
    "    - 최종 결과를 저장했습니다 - \n",
    "    - 모든 크롤링을 마쳤습니다 - \n",
    "    ''')\n",
    "    \n",
    "    tag_result()"
   ]
  },
  {
   "cell_type": "code",
   "execution_count": 19,
   "metadata": {
    "collapsed": true
   },
   "outputs": [],
   "source": [
    "#인기 게시물: 게시물의 좋아요를 수집하여 Top10 게시물의  좋아요 숫자, 게시글 저자, 본문, 게시글 링크 리포트 - 데이터프레임 출력, 파일로 저장.\n",
    "def find_top10(browser):\n",
    "    best_likes = [[0, 0, '', '', ''], [0, 0, '', '', ''], [0, 0, '', '', ''], [0, 0, '', '', ''], [0, 0, '', '', ''], [0, 0, '', '', ''], [0, 0, '', '', ''], [0, 0, '', '', ''], [0, 0, '', '', ''], [0, 0, '', '', '']]\n",
    "    \n",
    "    for i in range(num):                     \n",
    "        index = int(i+1)\n",
    "\n",
    "        print('{}번째 크롤링 중'.format(index))\n",
    "        \n",
    "        likes = get_likesandplays(browser)[0]\n",
    "        plays = get_likesandplays(browser)[1]\n",
    "        author = get_author(browser)\n",
    "        article = get_content(browser)\n",
    "        article_url = get_current_url(browser)\n",
    "        \n",
    "        result = [likes, plays, author, article, article_url]\n",
    "        \n",
    "        if result > best_likes[9]:\n",
    "            best_likes.append(result)       \n",
    "            \n",
    "            best_likes.sort()\n",
    "            best_likes.reverse()\n",
    "            drop = best_likes.pop()\n",
    "            \n",
    "        if index % save_when == 0:\n",
    "            rankings = pd.DataFrame(best_likes, columns=['좋아요', '재생수', '작성자', '본문', 'url'])\n",
    "            rankings.to_csv(csv_path)\n",
    "            print('- 중간 결과를 저장했습니다 -')\n",
    "        \n",
    "        try:\n",
    "            move_next(browser)\n",
    "            time.sleep(2)\n",
    "            \n",
    "        except NoSuchElementException:\n",
    "            rankings = pd.DataFrame(best_likes, columns=['좋아요', '재생수', '작성자', '본문', 'url'])\n",
    "            rankings.to_csv(csv_path)\n",
    "                    \n",
    "    rankings = pd.DataFrame(best_likes, columns=['좋아요', '재생수', '작성자', '본문', 'url'])\n",
    "    rankings.to_csv(csv_path)\n",
    "    \n",
    "    print('''\n",
    "    - 최종 결과를 저장했습니다 - \n",
    "    - 모든 크롤링을 마쳤습니다 - \n",
    "    ''')\n",
    "        \n",
    "    print(rankings)"
   ]
  },
  {
   "cell_type": "code",
   "execution_count": 20,
   "metadata": {
    "collapsed": true
   },
   "outputs": [],
   "source": [
    "def find_fullreport(browser):\n",
    "    result = []\n",
    "    results = []\n",
    "    report = pd.DataFrame(columns = ['좋아요', '재생수', '작성자', '장소', '본문', 'url'])\n",
    "    \n",
    "    for i in range(num):                     \n",
    "        index = int(i+1)\n",
    "        print('{}번째 크롤링 중'.format(index))\n",
    "        \n",
    "        likes = get_likesandplays(browser)[0]\n",
    "        plays = get_likesandplays(browser)[1]\n",
    "        author = get_author(browser)\n",
    "        location = get_location(browser)\n",
    "        article = get_content(browser)\n",
    "        article_url = get_current_url(browser)\n",
    "        \n",
    "        result = [likes, plays, author, location, article, article_url]\n",
    "        results.append(result)   \n",
    "        \n",
    "        if index % save_when == 0:\n",
    "            temp_report = pd.DataFrame(results, columns = ['좋아요', '재생수', '작성자', '장소', '본문', 'url'])\n",
    "            report = pd.concat([report, temp_report])\n",
    "            report.to_csv(csv_path)\n",
    "            results = []\n",
    "            print('- 중간 결과를 저장했습니다 -')\n",
    "        \n",
    "        try:\n",
    "            move_next(browser)\n",
    "            time.sleep(2)\n",
    "        \n",
    "        except NoSuchElementException:\n",
    "            temp_report = pd.DataFrame(results, columns = ['좋아요', '재생수', '작성자', '장소', '본문', 'url'])\n",
    "            report = pd.concat([report, temp_report])\n",
    "            report.to_csv(csv_path)    \n",
    "        \n",
    "    temp_report = pd.DataFrame(results, columns = ['좋아요', '재생수', '작성자', '장소', '본문', 'url'])\n",
    "    report = pd.concat([report, temp_report])\n",
    "    report.to_csv(csv_path)\n",
    "\n",
    "    print('''\n",
    "    - 최종 결과를 저장했습니다 -\n",
    "    - 모든 크롤링을 마쳤습니다 - \n",
    "    ''')"
   ]
  },
  {
   "cell_type": "code",
   "execution_count": 21,
   "metadata": {
    "collapsed": true
   },
   "outputs": [
    {
     "name": "stdout",
     "output_type": "stream",
     "text": [
      "찾고 싶은 키워드를 입력하세요: 슬로우펫푸드\n",
      "몇건의 포스팅을 찾으시겠습니까?: 400\n",
      "\n",
      "원하시는 검색 방법을 숫자로 입력하세요.\n",
      "1. 태그 트렌드\n",
      "2. 인기 게시물\n",
      "3. 풀 리포트\n",
      "1\n",
      "태그 트렌드\n",
      "1번째 크롤링 중\n",
      "2번째 크롤링 중\n",
      "3번째 크롤링 중\n",
      "4번째 크롤링 중\n",
      "5번째 크롤링 중\n",
      "6번째 크롤링 중\n",
      "7번째 크롤링 중\n",
      "8번째 크롤링 중\n",
      "9번째 크롤링 중\n",
      "10번째 크롤링 중\n",
      "11번째 크롤링 중\n",
      "12번째 크롤링 중\n",
      "13번째 크롤링 중\n",
      "14번째 크롤링 중\n",
      "15번째 크롤링 중\n",
      "16번째 크롤링 중\n",
      "17번째 크롤링 중\n",
      "18번째 크롤링 중\n",
      "19번째 크롤링 중\n",
      "20번째 크롤링 중\n",
      "21번째 크롤링 중\n",
      "22번째 크롤링 중\n",
      "23번째 크롤링 중\n",
      "24번째 크롤링 중\n",
      "25번째 크롤링 중\n",
      "26번째 크롤링 중\n",
      "27번째 크롤링 중\n",
      "28번째 크롤링 중\n",
      "29번째 크롤링 중\n",
      "30번째 크롤링 중\n",
      "31번째 크롤링 중\n",
      "32번째 크롤링 중\n",
      "33번째 크롤링 중\n",
      "34번째 크롤링 중\n",
      "35번째 크롤링 중\n",
      "36번째 크롤링 중\n",
      "37번째 크롤링 중\n",
      "38번째 크롤링 중\n",
      "39번째 크롤링 중\n",
      "40번째 크롤링 중\n",
      "41번째 크롤링 중\n",
      "42번째 크롤링 중\n",
      "43번째 크롤링 중\n",
      "44번째 크롤링 중\n",
      "45번째 크롤링 중\n",
      "46번째 크롤링 중\n",
      "47번째 크롤링 중\n",
      "48번째 크롤링 중\n",
      "49번째 크롤링 중\n",
      "50번째 크롤링 중\n",
      "- 중간 결과를 저장했습니다 -\n",
      "51번째 크롤링 중\n",
      "52번째 크롤링 중\n",
      "53번째 크롤링 중\n",
      "54번째 크롤링 중\n",
      "55번째 크롤링 중\n",
      "56번째 크롤링 중\n",
      "57번째 크롤링 중\n",
      "58번째 크롤링 중\n",
      "59번째 크롤링 중\n",
      "60번째 크롤링 중\n",
      "61번째 크롤링 중\n",
      "62번째 크롤링 중\n",
      "63번째 크롤링 중\n",
      "64번째 크롤링 중\n",
      "65번째 크롤링 중\n",
      "66번째 크롤링 중\n",
      "67번째 크롤링 중\n",
      "68번째 크롤링 중\n",
      "69번째 크롤링 중\n",
      "70번째 크롤링 중\n",
      "71번째 크롤링 중\n",
      "72번째 크롤링 중\n",
      "73번째 크롤링 중\n",
      "74번째 크롤링 중\n",
      "75번째 크롤링 중\n",
      "76번째 크롤링 중\n",
      "77번째 크롤링 중\n",
      "78번째 크롤링 중\n",
      "79번째 크롤링 중\n",
      "80번째 크롤링 중\n",
      "81번째 크롤링 중\n",
      "82번째 크롤링 중\n",
      "83번째 크롤링 중\n",
      "84번째 크롤링 중\n",
      "85번째 크롤링 중\n",
      "86번째 크롤링 중\n",
      "87번째 크롤링 중\n",
      "88번째 크롤링 중\n",
      "89번째 크롤링 중\n",
      "90번째 크롤링 중\n",
      "91번째 크롤링 중\n",
      "92번째 크롤링 중\n",
      "93번째 크롤링 중\n",
      "94번째 크롤링 중\n",
      "95번째 크롤링 중\n",
      "96번째 크롤링 중\n",
      "97번째 크롤링 중\n",
      "98번째 크롤링 중\n",
      "99번째 크롤링 중\n",
      "100번째 크롤링 중\n",
      "- 중간 결과를 저장했습니다 -\n",
      "101번째 크롤링 중\n",
      "102번째 크롤링 중\n",
      "103번째 크롤링 중\n",
      "104번째 크롤링 중\n",
      "105번째 크롤링 중\n",
      "106번째 크롤링 중\n",
      "107번째 크롤링 중\n",
      "108번째 크롤링 중\n",
      "109번째 크롤링 중\n",
      "110번째 크롤링 중\n",
      "111번째 크롤링 중\n",
      "112번째 크롤링 중\n",
      "113번째 크롤링 중\n",
      "114번째 크롤링 중\n",
      "115번째 크롤링 중\n",
      "116번째 크롤링 중\n",
      "117번째 크롤링 중\n",
      "118번째 크롤링 중\n",
      "119번째 크롤링 중\n",
      "120번째 크롤링 중\n",
      "121번째 크롤링 중\n",
      "122번째 크롤링 중\n",
      "123번째 크롤링 중\n",
      "124번째 크롤링 중\n",
      "125번째 크롤링 중\n",
      "126번째 크롤링 중\n",
      "127번째 크롤링 중\n",
      "128번째 크롤링 중\n",
      "129번째 크롤링 중\n",
      "130번째 크롤링 중\n",
      "131번째 크롤링 중\n",
      "132번째 크롤링 중\n",
      "133번째 크롤링 중\n",
      "134번째 크롤링 중\n",
      "135번째 크롤링 중\n",
      "136번째 크롤링 중\n",
      "137번째 크롤링 중\n",
      "138번째 크롤링 중\n",
      "139번째 크롤링 중\n",
      "140번째 크롤링 중\n",
      "141번째 크롤링 중\n",
      "142번째 크롤링 중\n",
      "143번째 크롤링 중\n",
      "144번째 크롤링 중\n",
      "145번째 크롤링 중\n",
      "146번째 크롤링 중\n",
      "147번째 크롤링 중\n",
      "148번째 크롤링 중\n",
      "149번째 크롤링 중\n",
      "150번째 크롤링 중\n",
      "- 중간 결과를 저장했습니다 -\n",
      "151번째 크롤링 중\n",
      "152번째 크롤링 중\n",
      "153번째 크롤링 중\n",
      "154번째 크롤링 중\n",
      "155번째 크롤링 중\n",
      "156번째 크롤링 중\n",
      "157번째 크롤링 중\n",
      "158번째 크롤링 중\n",
      "159번째 크롤링 중\n",
      "160번째 크롤링 중\n",
      "161번째 크롤링 중\n",
      "162번째 크롤링 중\n",
      "163번째 크롤링 중\n",
      "164번째 크롤링 중\n",
      "165번째 크롤링 중\n",
      "166번째 크롤링 중\n",
      "167번째 크롤링 중\n",
      "168번째 크롤링 중\n",
      "169번째 크롤링 중\n",
      "170번째 크롤링 중\n",
      "171번째 크롤링 중\n",
      "172번째 크롤링 중\n",
      "173번째 크롤링 중\n",
      "174번째 크롤링 중\n",
      "175번째 크롤링 중\n",
      "176번째 크롤링 중\n",
      "177번째 크롤링 중\n",
      "178번째 크롤링 중\n",
      "179번째 크롤링 중\n",
      "180번째 크롤링 중\n",
      "181번째 크롤링 중\n",
      "182번째 크롤링 중\n",
      "183번째 크롤링 중\n",
      "184번째 크롤링 중\n",
      "185번째 크롤링 중\n",
      "186번째 크롤링 중\n",
      "187번째 크롤링 중\n",
      "188번째 크롤링 중\n",
      "189번째 크롤링 중\n",
      "190번째 크롤링 중\n",
      "191번째 크롤링 중\n",
      "192번째 크롤링 중\n",
      "193번째 크롤링 중\n",
      "194번째 크롤링 중\n",
      "195번째 크롤링 중\n",
      "196번째 크롤링 중\n",
      "197번째 크롤링 중\n",
      "198번째 크롤링 중\n",
      "199번째 크롤링 중\n",
      "200번째 크롤링 중\n",
      "- 중간 결과를 저장했습니다 -\n",
      "201번째 크롤링 중\n",
      "202번째 크롤링 중\n",
      "203번째 크롤링 중\n",
      "204번째 크롤링 중\n",
      "205번째 크롤링 중\n",
      "206번째 크롤링 중\n",
      "207번째 크롤링 중\n",
      "208번째 크롤링 중\n",
      "209번째 크롤링 중\n",
      "210번째 크롤링 중\n",
      "211번째 크롤링 중\n",
      "212번째 크롤링 중\n",
      "213번째 크롤링 중\n",
      "214번째 크롤링 중\n",
      "215번째 크롤링 중\n",
      "216번째 크롤링 중\n",
      "217번째 크롤링 중\n",
      "218번째 크롤링 중\n",
      "219번째 크롤링 중\n",
      "220번째 크롤링 중\n",
      "221번째 크롤링 중\n",
      "222번째 크롤링 중\n",
      "223번째 크롤링 중\n",
      "224번째 크롤링 중\n",
      "225번째 크롤링 중\n",
      "226번째 크롤링 중\n",
      "227번째 크롤링 중\n",
      "228번째 크롤링 중\n",
      "229번째 크롤링 중\n",
      "230번째 크롤링 중\n",
      "231번째 크롤링 중\n",
      "232번째 크롤링 중\n",
      "233번째 크롤링 중\n",
      "234번째 크롤링 중\n",
      "235번째 크롤링 중\n",
      "236번째 크롤링 중\n",
      "237번째 크롤링 중\n"
     ]
    },
    {
     "ename": "NoSuchElementException",
     "evalue": "Message: no such element: Unable to locate element: {\"method\":\"css selector\",\"selector\":\"div._23gmb > div > div > a._3a693.coreSpriteRightPaginationArrow\"}\n  (Session info: chrome=63.0.3239.132)\n  (Driver info: chromedriver=2.35.528161 (5b82f2d2aae0ca24b877009200ced9065a772e73),platform=Windows NT 6.1.7601 SP1 x86_64)\n",
     "traceback": [
      "\u001b[1;31m---------------------------------------------------------------------------\u001b[0m",
      "\u001b[1;31mNoSuchElementException\u001b[0m                    Traceback (most recent call last)",
      "\u001b[1;32m<ipython-input-21-c5d0a826766c>\u001b[0m in \u001b[0;36m<module>\u001b[1;34m()\u001b[0m\n\u001b[0;32m     23\u001b[0m \u001b[1;32mif\u001b[0m \u001b[0mmethod\u001b[0m \u001b[1;33m==\u001b[0m \u001b[1;36m1\u001b[0m\u001b[1;33m:\u001b[0m\u001b[1;33m\u001b[0m\u001b[0m\n\u001b[0;32m     24\u001b[0m     \u001b[0mprint\u001b[0m\u001b[1;33m(\u001b[0m\u001b[1;34m'태그 트렌드'\u001b[0m\u001b[1;33m)\u001b[0m\u001b[1;33m\u001b[0m\u001b[0m\n\u001b[1;32m---> 25\u001b[1;33m     \u001b[0mfind_tagtrend\u001b[0m\u001b[1;33m(\u001b[0m\u001b[0mbrowser\u001b[0m\u001b[1;33m)\u001b[0m\u001b[1;33m\u001b[0m\u001b[0m\n\u001b[0m\u001b[0;32m     26\u001b[0m \u001b[1;33m\u001b[0m\u001b[0m\n\u001b[0;32m     27\u001b[0m \u001b[1;32melif\u001b[0m \u001b[0mmethod\u001b[0m \u001b[1;33m==\u001b[0m \u001b[1;36m2\u001b[0m\u001b[1;33m:\u001b[0m\u001b[1;33m\u001b[0m\u001b[0m\n",
      "\u001b[1;32m<ipython-input-18-21ae5703a52e>\u001b[0m in \u001b[0;36mfind_tagtrend\u001b[1;34m(browser)\u001b[0m\n\u001b[0;32m     16\u001b[0m             \u001b[0mtags\u001b[0m \u001b[1;33m=\u001b[0m \u001b[1;33m[\u001b[0m\u001b[1;33m]\u001b[0m\u001b[1;33m\u001b[0m\u001b[0m\n\u001b[0;32m     17\u001b[0m \u001b[1;33m\u001b[0m\u001b[0m\n\u001b[1;32m---> 18\u001b[1;33m         \u001b[0mmove_next\u001b[0m\u001b[1;33m(\u001b[0m\u001b[0mbrowser\u001b[0m\u001b[1;33m)\u001b[0m\u001b[1;33m\u001b[0m\u001b[0m\n\u001b[0m\u001b[0;32m     19\u001b[0m         \u001b[0mtime\u001b[0m\u001b[1;33m.\u001b[0m\u001b[0msleep\u001b[0m\u001b[1;33m(\u001b[0m\u001b[1;36m2\u001b[0m\u001b[1;33m)\u001b[0m\u001b[1;33m\u001b[0m\u001b[0m\n\u001b[0;32m     20\u001b[0m \u001b[1;33m\u001b[0m\u001b[0m\n",
      "\u001b[1;32m<ipython-input-17-c5089676860d>\u001b[0m in \u001b[0;36mmove_next\u001b[1;34m(browser)\u001b[0m\n\u001b[0;32m      1\u001b[0m \u001b[1;32mdef\u001b[0m \u001b[0mmove_next\u001b[0m\u001b[1;33m(\u001b[0m\u001b[0mbrowser\u001b[0m\u001b[1;33m)\u001b[0m\u001b[1;33m:\u001b[0m\u001b[1;33m\u001b[0m\u001b[0m\n\u001b[1;32m----> 2\u001b[1;33m     \u001b[0mbrowser\u001b[0m\u001b[1;33m.\u001b[0m\u001b[0mfind_element_by_css_selector\u001b[0m\u001b[1;33m(\u001b[0m\u001b[1;34m'div._23gmb > div > div > a._3a693.coreSpriteRightPaginationArrow'\u001b[0m\u001b[1;33m)\u001b[0m\u001b[1;33m.\u001b[0m\u001b[0mclick\u001b[0m\u001b[1;33m(\u001b[0m\u001b[1;33m)\u001b[0m\u001b[1;33m\u001b[0m\u001b[0m\n\u001b[0m",
      "\u001b[1;32mC:\\ProgramData\\Anaconda3\\lib\\site-packages\\selenium\\webdriver\\remote\\webdriver.py\u001b[0m in \u001b[0;36mfind_element_by_css_selector\u001b[1;34m(self, css_selector)\u001b[0m\n\u001b[0;32m    587\u001b[0m             \u001b[0melement\u001b[0m \u001b[1;33m=\u001b[0m \u001b[0mdriver\u001b[0m\u001b[1;33m.\u001b[0m\u001b[0mfind_element_by_css_selector\u001b[0m\u001b[1;33m(\u001b[0m\u001b[1;34m'#foo'\u001b[0m\u001b[1;33m)\u001b[0m\u001b[1;33m\u001b[0m\u001b[0m\n\u001b[0;32m    588\u001b[0m         \"\"\"\n\u001b[1;32m--> 589\u001b[1;33m         \u001b[1;32mreturn\u001b[0m \u001b[0mself\u001b[0m\u001b[1;33m.\u001b[0m\u001b[0mfind_element\u001b[0m\u001b[1;33m(\u001b[0m\u001b[0mby\u001b[0m\u001b[1;33m=\u001b[0m\u001b[0mBy\u001b[0m\u001b[1;33m.\u001b[0m\u001b[0mCSS_SELECTOR\u001b[0m\u001b[1;33m,\u001b[0m \u001b[0mvalue\u001b[0m\u001b[1;33m=\u001b[0m\u001b[0mcss_selector\u001b[0m\u001b[1;33m)\u001b[0m\u001b[1;33m\u001b[0m\u001b[0m\n\u001b[0m\u001b[0;32m    590\u001b[0m \u001b[1;33m\u001b[0m\u001b[0m\n\u001b[0;32m    591\u001b[0m     \u001b[1;32mdef\u001b[0m \u001b[0mfind_elements_by_css_selector\u001b[0m\u001b[1;33m(\u001b[0m\u001b[0mself\u001b[0m\u001b[1;33m,\u001b[0m \u001b[0mcss_selector\u001b[0m\u001b[1;33m)\u001b[0m\u001b[1;33m:\u001b[0m\u001b[1;33m\u001b[0m\u001b[0m\n",
      "\u001b[1;32mC:\\ProgramData\\Anaconda3\\lib\\site-packages\\selenium\\webdriver\\remote\\webdriver.py\u001b[0m in \u001b[0;36mfind_element\u001b[1;34m(self, by, value)\u001b[0m\n\u001b[0;32m    953\u001b[0m         return self.execute(Command.FIND_ELEMENT, {\n\u001b[0;32m    954\u001b[0m             \u001b[1;34m'using'\u001b[0m\u001b[1;33m:\u001b[0m \u001b[0mby\u001b[0m\u001b[1;33m,\u001b[0m\u001b[1;33m\u001b[0m\u001b[0m\n\u001b[1;32m--> 955\u001b[1;33m             'value': value})['value']\n\u001b[0m\u001b[0;32m    956\u001b[0m \u001b[1;33m\u001b[0m\u001b[0m\n\u001b[0;32m    957\u001b[0m     \u001b[1;32mdef\u001b[0m \u001b[0mfind_elements\u001b[0m\u001b[1;33m(\u001b[0m\u001b[0mself\u001b[0m\u001b[1;33m,\u001b[0m \u001b[0mby\u001b[0m\u001b[1;33m=\u001b[0m\u001b[0mBy\u001b[0m\u001b[1;33m.\u001b[0m\u001b[0mID\u001b[0m\u001b[1;33m,\u001b[0m \u001b[0mvalue\u001b[0m\u001b[1;33m=\u001b[0m\u001b[1;32mNone\u001b[0m\u001b[1;33m)\u001b[0m\u001b[1;33m:\u001b[0m\u001b[1;33m\u001b[0m\u001b[0m\n",
      "\u001b[1;32mC:\\ProgramData\\Anaconda3\\lib\\site-packages\\selenium\\webdriver\\remote\\webdriver.py\u001b[0m in \u001b[0;36mexecute\u001b[1;34m(self, driver_command, params)\u001b[0m\n\u001b[0;32m    310\u001b[0m         \u001b[0mresponse\u001b[0m \u001b[1;33m=\u001b[0m \u001b[0mself\u001b[0m\u001b[1;33m.\u001b[0m\u001b[0mcommand_executor\u001b[0m\u001b[1;33m.\u001b[0m\u001b[0mexecute\u001b[0m\u001b[1;33m(\u001b[0m\u001b[0mdriver_command\u001b[0m\u001b[1;33m,\u001b[0m \u001b[0mparams\u001b[0m\u001b[1;33m)\u001b[0m\u001b[1;33m\u001b[0m\u001b[0m\n\u001b[0;32m    311\u001b[0m         \u001b[1;32mif\u001b[0m \u001b[0mresponse\u001b[0m\u001b[1;33m:\u001b[0m\u001b[1;33m\u001b[0m\u001b[0m\n\u001b[1;32m--> 312\u001b[1;33m             \u001b[0mself\u001b[0m\u001b[1;33m.\u001b[0m\u001b[0merror_handler\u001b[0m\u001b[1;33m.\u001b[0m\u001b[0mcheck_response\u001b[0m\u001b[1;33m(\u001b[0m\u001b[0mresponse\u001b[0m\u001b[1;33m)\u001b[0m\u001b[1;33m\u001b[0m\u001b[0m\n\u001b[0m\u001b[0;32m    313\u001b[0m             response['value'] = self._unwrap_value(\n\u001b[0;32m    314\u001b[0m                 response.get('value', None))\n",
      "\u001b[1;32mC:\\ProgramData\\Anaconda3\\lib\\site-packages\\selenium\\webdriver\\remote\\errorhandler.py\u001b[0m in \u001b[0;36mcheck_response\u001b[1;34m(self, response)\u001b[0m\n\u001b[0;32m    235\u001b[0m         \u001b[1;32melif\u001b[0m \u001b[0mexception_class\u001b[0m \u001b[1;33m==\u001b[0m \u001b[0mUnexpectedAlertPresentException\u001b[0m \u001b[1;32mand\u001b[0m \u001b[1;34m'alert'\u001b[0m \u001b[1;32min\u001b[0m \u001b[0mvalue\u001b[0m\u001b[1;33m:\u001b[0m\u001b[1;33m\u001b[0m\u001b[0m\n\u001b[0;32m    236\u001b[0m             \u001b[1;32mraise\u001b[0m \u001b[0mexception_class\u001b[0m\u001b[1;33m(\u001b[0m\u001b[0mmessage\u001b[0m\u001b[1;33m,\u001b[0m \u001b[0mscreen\u001b[0m\u001b[1;33m,\u001b[0m \u001b[0mstacktrace\u001b[0m\u001b[1;33m,\u001b[0m \u001b[0mvalue\u001b[0m\u001b[1;33m[\u001b[0m\u001b[1;34m'alert'\u001b[0m\u001b[1;33m]\u001b[0m\u001b[1;33m.\u001b[0m\u001b[0mget\u001b[0m\u001b[1;33m(\u001b[0m\u001b[1;34m'text'\u001b[0m\u001b[1;33m)\u001b[0m\u001b[1;33m)\u001b[0m\u001b[1;33m\u001b[0m\u001b[0m\n\u001b[1;32m--> 237\u001b[1;33m         \u001b[1;32mraise\u001b[0m \u001b[0mexception_class\u001b[0m\u001b[1;33m(\u001b[0m\u001b[0mmessage\u001b[0m\u001b[1;33m,\u001b[0m \u001b[0mscreen\u001b[0m\u001b[1;33m,\u001b[0m \u001b[0mstacktrace\u001b[0m\u001b[1;33m)\u001b[0m\u001b[1;33m\u001b[0m\u001b[0m\n\u001b[0m\u001b[0;32m    238\u001b[0m \u001b[1;33m\u001b[0m\u001b[0m\n\u001b[0;32m    239\u001b[0m     \u001b[1;32mdef\u001b[0m \u001b[0m_value_or_default\u001b[0m\u001b[1;33m(\u001b[0m\u001b[0mself\u001b[0m\u001b[1;33m,\u001b[0m \u001b[0mobj\u001b[0m\u001b[1;33m,\u001b[0m \u001b[0mkey\u001b[0m\u001b[1;33m,\u001b[0m \u001b[0mdefault\u001b[0m\u001b[1;33m)\u001b[0m\u001b[1;33m:\u001b[0m\u001b[1;33m\u001b[0m\u001b[0m\n",
      "\u001b[1;31mNoSuchElementException\u001b[0m: Message: no such element: Unable to locate element: {\"method\":\"css selector\",\"selector\":\"div._23gmb > div > div > a._3a693.coreSpriteRightPaginationArrow\"}\n  (Session info: chrome=63.0.3239.132)\n  (Driver info: chromedriver=2.35.528161 (5b82f2d2aae0ca24b877009200ced9065a772e73),platform=Windows NT 6.1.7601 SP1 x86_64)\n"
     ],
     "output_type": "error"
    }
   ],
   "source": [
    "word = input('찾고 싶은 키워드를 입력하세요: ')\n",
    "searching_insta(browser)\n",
    "\n",
    "now = datetime.now()\n",
    "start_time = now.strftime('%Y%m%d_%H:%M')\n",
    "\n",
    "txt_path = save_path + '{}_{}.txt'.format(word, start_time)\n",
    "csv_path = save_path + '{}_{}.csv'.format(word, start_time)\n",
    "\n",
    "num = int(input('몇건의 포스팅을 찾으시겠습니까?: '))\n",
    "click_1st(browser)\n",
    "browser.implicitly_wait(3)\n",
    "\n",
    "#리포트 방법\n",
    "##1. 태그 트렌드: 게시물의 태그만 수집하여 태그 순위 리포트 - 클라우드 출력, 파일로 저장.\n",
    "##2. 인기 게시물: 게시물의 좋아요를 수집하여 Top10 게시물의  좋아요 숫자, 게시글 저자, 본문, 게시글 링크 리포트 - 데이터프레임 출력, 파일로 저장.\n",
    "##3. 풀 리포트: 좋아요 숫자, 게시글 저자, 장소, 본문, 댓글, 링크 리포트 -  파일로 저장.\n",
    "\n",
    "method = int(input('''\n",
    "원하시는 검색 방법을 숫자로 입력하세요.\n",
    "1. 태그 트렌드\n",
    "2. 인기 게시물\n",
    "3. 풀 리포트\n",
    "'''))\n",
    "\n",
    "if method == 1: \n",
    "    print('태그 트렌드')\n",
    "    find_tagtrend(browser)\n",
    "\n",
    "elif method == 2:\n",
    "    print('인기 게시물')\n",
    "    find_top10(browser)\n",
    "    \n",
    "elif method == 3:\n",
    "    print('풀 리포트')\n",
    "    find_fullreport(browser)\n",
    "    \n",
    "else:\n",
    "    print('잘못 입력하셨습니다.')"
   ]
  },
  {
   "cell_type": "code",
   "execution_count": 34,
   "metadata": {},
   "outputs": [
    {
     "name": "stdout",
     "output_type": "stream",
     "text": [
      "20180205_16:29\n"
     ]
    }
   ],
   "source": [
    "print(start_time)"
   ]
  },
  {
   "cell_type": "code",
   "execution_count": 22,
   "metadata": {},
   "outputs": [
    {
     "name": "stdout",
     "output_type": "stream",
     "text": [
      "Counter({'#도그셰프미요셰프': 281, '#강아지자연식': 214, '#도그셰프': 213, '#무병장수': 202, '#슬로우펫푸드': 200, '#미요셰프': 196, '#스무살까지내곁에': 196, '#매니아펫푸드': 196, '#강아지수제간식': 196, '#잘지은밥_선': 147, '#고양이자연식': 105, '#강아지수제사료': 98, '#고양이수제간식': 97, '#사료말고_밥': 95, '#금쪽같은한끼_선': 92, '#Repost': 82, '#반건조자연식': 66, '#펠릿형자연식': 66, '#아트오브스파이스': 65, '#개념있는자연식': 45, '#체험단모집': 37, '#오가닉이지베지': 33, '#AOS': 30, '#선_체험단모집': 26, '#펫푸드원데이클래스': 25, '#선': 24, '#자연식쿠킹클래스': 23, '#반려동물헬스케어아카데미': 21, '#펫푸드클래스': 21, '#아이스밀크젤리': 17, '#이지베지체험단': 16, '#건조야채퓨레': 14, '#ByRepost': 14, '#Regrann': 13, '#삼복세트2016': 11, '#강아지보양식': 11, '#강아지아이스크림': 10, '#강아지푸딩': 10, '#강아지슬러시': 9, '#화식': 7, '#연_홈밀컴플리터': 7, '#홈메이드자연식': 7, '#이지베지': 7, '#아이스밀크젤리체험단': 7, '#아삭아삭🍨슬러시': 7, '#말캉말캉🍮푸딩': 7, '#펫퀴진스쿨': 6, '#긴급공지': 6, '#신청하신모든분들께': 6, '#반드시끝까지': 5, '#읽으신후': 5, '#신청해주세요': 5, '#리그램이벤트': 5, '#선_포크레시피': 5, '#삼복세트2016예약시작': 5, '#01': 5, '#02': 5, '#03': 5, '#04': 5, '#고양이자연식당당할수잇게': 5, '#펫베이커리': 4, '#국제파이토테라피스트': 4, '#regrann': 4, '#멍스타그램': 4, '#🎁리그램이벤트': 4, '#예약하실수있어요': 4, '#2차할인쿠폰': 4, '#훈제츄잉본': 4, '#EzRepost': 4, '#평생건강': 3, '#펫푸드비지니스반': 3, '#IPT': 3, '#무병장수_연': 3, '#포크레시피': 3, '#펫푸드': 3, '#무병장_수': 3, '#자연식보조제': 3, '#펫푸드전문가': 2, '#허벌펫푸드': 2, '#펫쿠킹클래스': 2, '#메디칼허브': 2, '#페퍼민트': 2, '#퍽난감하군': 2, '#리그램': 2, '#강아지쿠키': 2, '#강아지': 2, '#강아지베이커리': 2, '#레인보우무스케이크': 2, '#자연식예찬': 2, '#다이닝코어': 2, '#감사합니다': 2, '#저스틴': 2, '#팀버': 2, '#레이크': 2, '#동물보호법': 2, '#울려퍼져라': 2, '#훈육상궁': 2, '#거대인절미말리': 2, '#아이부끄러버라': 2, '#넘반가웟어요': 2, '#사인감사합니다': 2, '#신규앨범대박나세요': 2, '#액자에보관해야지': 2, '#불효본': 2, '#instadog': 2, '#yorkshireterrier': 2, '#요크셔테리어': 2, '#petstagram': 2, '#저이벵해요': 2, '#영지황태수': 1, '#설날이벤트': 1, '#강아지슬러쉬': 1, '#마도로스펫': 1, '#은동이': 1, '#연어젤리츄': 1, '#은호': 1, '#해피해피': 1, '#지금은촬영중': 1, '#SBS': 1, '#TV동물농장': 1, '#반려동물전문플랫폼하루': 1, '#펫푸드강좌': 1, '#주먹구구식': 1, '#자연식공개강좌': 1, '#펫푸드전문가과정': 1, '#힐링베이킹': 1, '#요건휴먼케이크': 1, '#오늘은나를위해': 1, '#펫푸드창업반': 1, '#강아지수제간식창업반': 1, '#시향': 1, '#담주는종강파티': 1, '#무료강좌': 1, '#서울종합예술실용학교': 1, '#가슴으로낳아지갑으로모셨다': 1, '#국제캣산업박람회': 1, '#소중한한끼': 1, '#수석졸업': 1, '#무병장수펫푸드': 1, '#15년늙은기분': 1, '#펫퀴진스쿨EXPERT': 1, '#굴림만두': 1, '#체험단발표': 1, '#집밥솔루션': 1, '#스트레스키커': 1, '#캐모마일': 1, '#네틀': 1, '#휴먼쿠키': 1, '#설탕빼고': 1, '#체험단결과발표': 1, '#상품받는기분이란': 1, '#오늘도주말반납': 1, '#로즈마리효과인가': 1, '#집밥솔루션_연': 1, '#알뷔백': 1, '#허니버터크랙': 1, '#펫베이킹클래스': 1, '#반려동물': 1, '#펫': 1, '#펫아로마테라피': 1, '#펫아로마자격증': 1, '#펫아로마원데이클래스': 1, '#펫아로마': 1, '#마음다독': 1, '#메디컬허브': 1, '#설날만두': 1, '#슈림프마들렌': 1, '#한입에쏙쏙': 1, '#도그셰프집밥솔루션': 1, '#자연유래영양보조제': 1, '#자연식파트너': 1, '#이벤트결과발표': 1, '#개념있는자연식#Repost': 1, '#반려견': 1, '#푸들': 1, '#좋아요': 1, '#자연식퀴즈정답발표': 1, '#커밍순': 1, '#다이닝컴플리터': 1, '#자연식퀴즈1': 1, '#멸치': 1, '#칼슘': 1, '#자연식공부': 1, '#공부만이살길이다': 1, '#핵심코어': 1, '#기대해주세요': 1, '#파티파티': 1, '#우프링크': 1, '#강아지용주식': 1, '#얘들아미안': 1, '#안심하세요': 1, '#오픈5주년기념20프로할인중': 1, '#다보이는_선': 1, '#너무솔직한_선': 1, '#매번맡아봐도좋은냄새': 1, '#그냥먹어도맛있어요': 1, '#다보이네': 1, '#양배추': 1, '#식이섬유': 1, '#금쪽같은한끼': 1, '#더더잘지어드리겠습니다': 1, '#묵직듬직': 1, '#포스보소': 1, '#애증의오리알': 1, '#할인이벤트연장합니다': 1, '#쿠폰재발급은오늘밤에': 1, '#감동': 1, '#정성스런포장': 1, '#한강맨션고양이': 1, '#궁디팡팡마켓': 1, '#2017년달력': 1, '#한강맨션고양이달력': 1, '#빙위드캣': 1, '#음악과함께': 1, '#티볼리라디오': 1, '#tivoli': 1, '#tivoliaudio': 1, '#스튜디오뮤': 1, '#studiomew': 1, '#애견사료': 1, '#금사료': 1, '#치킨레시피': 1, '#마음으로만듭니다': 1, '#출시의辯': 1, '#원재료가격은': 1, '#판매가격보다': 1, '#자랑할게': 1, '#당연한': 1, '#무거운': 1, '#끝없는': 1, '#가치는': 1, '#여러분께서': 1, '#기다립니다': 1, '#긴글읽어주셔서감사합니다': 1, '#출시임박': 1, '#Regrann#Repost': 1, '#카페수리바베큐파티협찬': 1, '#카페수리': 1, '#내가만들고감탄하는': 1, '#때깔보소': 1, '#야채파우더': 1, '#에헤헤헤': 1, '#오리회춘스튜': 1, '#무더위사냥준비1탄': 1, '#훈제츄잉본플러스이벤트': 1, '#으르렁주의': 1, '#애증본': 1, '#훈제미니츄잉본': 1, '#무항생제돼지등갈비': 1, '#국내산참숯': 1, '#건조뼈간식과비교거부': 1, '#🍺부르는비쥬얼': 1, '#오늘은아쉽게도': 1, '#B급이없': 1, '#디투에이치': 1, '#선물감사합니다': 1, '#담엔꼭준덤이를만나는걸로': 1, '#곧굿뉴스전해드릴께요': 1, '#몰까요궁금궁금': 1, '#볶아서': 1, '#뿌려두면': 1, '#밥도둑완성': 1, '#강아지생식': 1, '#소고기생식': 1, '#별이맘마': 1, '#건조가아닙니다': 1, '#훈제입니다': 1, '#손님': 1, '#잘가잘살아': 1, '#민달팽이': 1, '#오가닉이지베지FG': 1, '#말리맘은천재인게분명해': 1, '#존경해욤': 1, '#짜랑해욤': 1, '#금비': 1, '#능금': 1, '#잡채용돼지고기': 1, '#새미': 1, '#요키': 1, '#pet': 1, '#dog': 1, '#cute': 1, '#terrier': 1, '#독스타그램': 1, '#doggy': 1, '#doggylove': 1, '#yorkie': 1, '#yorkiesofinstagram': 1, '#yorkies': 1, '#생식': 1, '#야채퓨레': 1, '#야채솔솔': 1, '#넘나편함': 1, '#블랙덕케이크': 1, '#단품': 1, '#맞춤파티📦패키지': 1, '#미포함입니다😅': 1, '#오가닉이지베지체험단모집결과발표': 1, '#10%할인쿠폰🎁을': 1, '#insholic': 1, '#강아지오가닉자연식': 1, '#건강야채퓨레': 1, '#피쉬마들렌': 1, '#고양이자연식#눈호강': 1, '#instapet': 1, '#dogstagram': 1, '#생일파티': 1, '#엘리하우스': 1, '#독수리오남매': 1, '#토이푸들': 1, '#dogparty': 1, '#happybirthday': 1, '#birthdayparty': 1, '#도그셰프미요세프': 1, '#AOS먹이는좋은예🐱': 1, '#홈페이지로구경오세요': 1, '#🐱🐶공용': 1, '#후각의자유': 1, '#100%천연소취제': 1, '#강황냄새안나요': 1, '#체험단이벤트': 1, '#서포터즈모집': 1, '#도그셰프미요셰프공식계정': 1, '#꾸벅꾸벅': 1, '#어지럽다': 1, '#뱅글뱅글': 1, '#시간잘간다': 1, '#할일태산인데': 1, '#사고친듭': 1})\n"
     ]
    },
    {
     "data": {
      "image/png": "[encoded data removed]",
      "text/plain": [
       "<matplotlib.figure.Figure at 0xa9921d0>"
      ]
     },
     "metadata": {},
     "output_type": "display_data"
    }
   ],
   "source": [
    "tag_result()"
   ]
  },
  {
   "cell_type": "code",
   "execution_count": null,
   "metadata": {
    "collapsed": true
   },
   "outputs": [],
   "source": [
    ""
   ]
  }
 ],
 "metadata": {
  "kernelspec": {
   "display_name": "Python 3",
   "language": "python",
   "name": "python3"
  },
  "language_info": {
   "codemirror_mode": {
    "name": "ipython",
    "version": 3.0
   },
   "file_extension": ".py",
   "mimetype": "text/x-python",
   "name": "python",
   "nbconvert_exporter": "python",
   "pygments_lexer": "ipython3",
   "version": "3.6.3"
  }
 },
 "nbformat": 4,
 "nbformat_minor": 0
}